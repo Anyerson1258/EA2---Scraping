{
  "nbformat": 4,
  "nbformat_minor": 0,
  "metadata": {
    "colab": {
      "provenance": [],
      "include_colab_link": true
    },
    "kernelspec": {
      "name": "python3",
      "display_name": "Python 3"
    },
    "language_info": {
      "name": "python"
    }
  },
  "cells": [
    {
      "cell_type": "markdown",
      "metadata": {
        "id": "view-in-github",
        "colab_type": "text"
      },
      "source": [
        "<a href=\"https://colab.research.google.com/github/Anyerson1258/EA2---Scraping/blob/main/Velasquez_Anyerson_EA1.ipynb\" target=\"_parent\"><img src=\"https://colab.research.google.com/assets/colab-badge.svg\" alt=\"Open In Colab\"/></a>"
      ]
    },
    {
      "cell_type": "markdown",
      "source": [
        "S30 - Evidencia de aprendizaje 1. Análisis y herramientas de extracción de datos\n",
        "\n",
        "---\n",
        "\n",
        "\n",
        "\n",
        "ESTUDIANTE:\n",
        "\n",
        "Anyerson Felipe Velasquez Cardona\n",
        "\n",
        "DOCENTE:\n",
        "\n",
        "Andrés Felipe Palacio\n",
        "\n",
        "\n",
        "INSTITUCION UNIVERSITARIA DIGITAL DE ANTIOQUIA\n",
        "Programación para Análisis de Datos\n",
        "2024-2"
      ],
      "metadata": {
        "id": "43_9fv_X6R21"
      }
    },
    {
      "cell_type": "code",
      "execution_count": 1,
      "metadata": {
        "colab": {
          "base_uri": "https://localhost:8080/"
        },
        "id": "hKNtW5NZtMDc",
        "outputId": "e1bf2d48-732e-4786-e490-ca9653c8548d"
      },
      "outputs": [
        {
          "output_type": "stream",
          "name": "stdout",
          "text": [
            "Requirement already satisfied: beautifulsoup4 in /usr/local/lib/python3.10/dist-packages (4.12.3)\n",
            "Requirement already satisfied: soupsieve>1.2 in /usr/local/lib/python3.10/dist-packages (from beautifulsoup4) (2.6)\n"
          ]
        }
      ],
      "source": [
        "!pip install beautifulsoup4"
      ]
    },
    {
      "cell_type": "code",
      "source": [
        "import requests\n",
        "from bs4 import BeautifulSoup\n",
        "import os\n",
        "\n",
        "def scrape_mercadolibre(url):\n",
        "    try:\n",
        "        response = requests.get(url)\n",
        "        response.raise_for_status()\n",
        "\n",
        "        soup = BeautifulSoup(response.content, \"html.parser\")\n",
        "\n",
        "        productos = soup.find_all(\"li\", class_=\"ui-search-layout__item\")\n",
        "\n",
        "        resultados = \"\"\n",
        "        for producto in productos:\n",
        "\n",
        "            titulo_elemento = producto.find(\"h2\", class_=\"ui-search-item__title\")\n",
        "            if not titulo_elemento:\n",
        "                titulo_elemento = producto.find(\"h2\")\n",
        "            titulo = titulo_elemento.text.strip() if titulo_elemento else \"Título no encontrado\"\n",
        "\n",
        "            # Ajuste del selector para encontrar el precio\n",
        "            precio_elemento = producto.find(\"div\", class_=\"poly-price__current\")\n",
        "            if precio_elemento:\n",
        "                precio = precio_elemento.find(\"span\", class_=\"andes-money-amount__fraction\").text.strip()\n",
        "            else:\n",
        "                precio = \"Precio no encontrado\"\n",
        "\n",
        "            resultados += f\"Título: {titulo}\\n\"\n",
        "            resultados += f\"Precio: {precio}\\n\"\n",
        "            resultados += \"-----\\n\"\n",
        "\n",
        "        if not os.path.exists('/content/sample_data'):\n",
        "            os.makedirs('/content/sample_data')\n",
        "        with open(\"/content/sample_data/PPADD/mercadolibre_data.html\", \"w\", encoding=\"utf-8\") as f:\n",
        "            f.write(str(soup))\n",
        "\n",
        "        return resultados\n",
        "\n",
        "    except requests.exceptions.RequestException as e:\n",
        "        return f\"Error al obtener la URL: {e}\"\n",
        "    except AttributeError as e:\n",
        "        return f\"Error al analizar el HTML: {e}. Verifica el selector CSS.\"\n",
        "    except Exception as e:\n",
        "        return f\"Error inesperado: {e}\"\n",
        "\n",
        "url_mercadolibre = \"https://listado.mercadolibre.com.co/sceptre-curvo-240hz\"\n",
        "resultados = scrape_mercadolibre(url_mercadolibre)\n",
        "print(resultados)\n"
      ],
      "metadata": {
        "colab": {
          "base_uri": "https://localhost:8080/"
        },
        "id": "T9sG6zQrtajy",
        "outputId": "22b0bbba-d97e-4e91-c764-3f4989a92a10",
        "collapsed": true
      },
      "execution_count": 13,
      "outputs": [
        {
          "output_type": "stream",
          "name": "stdout",
          "text": [
            "Título: Monitor Sceptre C255b-fwt240, 24.5 PuLG, 240 Hz, Fhd, 1500r\n",
            "Precio: 885.872\n",
            "-----\n",
            "Título: Monitor Sceptre u275w-upt 4k IPS 27'' UHD 70hz 99% RGB con Altavoces Integrados\n",
            "Precio: 1.255.900\n",
            "-----\n",
            "Título: Monitor gamer curvo Sceptre negro\n",
            "Precio: 1.146.900\n",
            "-----\n",
            "Título: Monitor Curvo Para Juegos 24.5 240hz 1080p Altavoces Integra\n",
            "Precio: 796.990\n",
            "-----\n",
            "Título: Monitor Curvo Scepter, 27 Pulgadas, 240 Hz, Displayport, ...\n",
            "Precio: 1.392.423\n",
            "-----\n",
            "Título: Monitor Gamer Sceptre 24.5  240hz 1ms Freesync Altavoces\n",
            "Precio: 923.950\n",
            "-----\n",
            "Título: Monitor Para Juegos Sceptre Curved De 32  Hasta 240 Hz 1 Ms\n",
            "Precio: 1.237.900\n",
            "-----\n",
            "Título: Monitor Para Juegos Sceptre Curved De 24,5 Pulgadas De Hasta\n",
            "Precio: 870.900\n",
            "-----\n",
            "Título: Monitor Para Juegos Sceptre Curvo De 32  Hasta 240 Hz 1 Ms A\n",
            "Precio: 1.319.900\n",
            "-----\n",
            "Título: Monitor Gamer Curvo Sceptre 24.5  Fhd 240hz 1ms Hdmi Dp\n",
            "Precio: 868.900\n",
            "-----\n",
            "Título: Monitor Para Juegos Sceptre Curved De 24,5 Pulgadas De Hasta\n",
            "Precio: 857.900\n",
            "-----\n",
            "Título: Monitor Para Juegos Sceptre Curved De 24,5 Pulgadas De Hasta\n",
            "Precio: 1.226.900\n",
            "-----\n",
            "Título: Monitor Gamer Sceptre C325b-fwd240, Curvo, 32'', Fhd, 1800r\n",
            "Precio: 1.179.656\n",
            "-----\n",
            "Título: Monitor Para Juegos Sceptre Curved De 24,5 Pulgadas De Hasta\n",
            "Precio: 1.193.160\n",
            "-----\n",
            "Título: Monitor Curvo Sceptre, 27 Pulgadas, 240hz, Displayport, Hdmi\n",
            "Precio: 1.847.948\n",
            "-----\n",
            "Título: Monitor Para Juegos Sceptre Curved De 24,5 Pulgadas De Hasta\n",
            "Precio: 1.376.741\n",
            "-----\n",
            "Título: Monitor Para Juegos Sceptre Curvo De 32  Hasta 240 Hz 1 Ms A\n",
            "Precio: 2.390.643\n",
            "-----\n",
            "Título: Monitor Curvo Scepter, 27 Pulgadas, 240 Hz, Displayport,...\n",
            "Precio: 1.713.407\n",
            "-----\n",
            "Título: Cetro 32 Qhd 1440p 2560x1440 Monitor Led Hdmi Displayport H\n",
            "Precio: 2.506.900\n",
            "-----\n",
            "Título: Monitor De Juegos Curvo Sceptre De 27 Pulgadas De Hasta 240h\n",
            "Precio: 1.610.900\n",
            "-----\n",
            "Título: Monitor Gamer Curvo Sceptre C325b 240 Hz Amd Freesync 32 In\n",
            "Precio: 1.169.900\n",
            "-----\n",
            "Título: Sceptre C255b-fwt240 Monitor Gamer Curvo Fhd 24.5''\n",
            "Precio: 861.900\n",
            "-----\n",
            "Título: Sceptre C275b-fwt240 Monitor Gamer Curvo Full Hd 27\n",
            "Precio: 1.046.900\n",
            "-----\n",
            "Título: Sceptre 27 Inch 240hz 1080p Gaming Monitor Amd Freesync\n",
            "Precio: 1.729.995\n",
            "-----\n",
            "Título: Sceptre Monitor Para Juegos De 27 Pulgadas 240hz 1ms 99% Sr. Color Negro\n",
            "Precio: 970.900\n",
            "-----\n",
            "Título: Sceptre Monitor Para Juegos De 24,5  240 Hz 1 Ms Displayport\n",
            "Precio: 870.900\n",
            "-----\n",
            "Título: Sceptre Monitor Para Juegos De 27 Pulgadas 240hz 1080p Amd F\n",
            "Precio: 1.477.900\n",
            "-----\n",
            "Título: Monitor Janus Led 32 Gamer X 165hz Curvo Pantalla Giratoria\n",
            "Precio: 1.569.330\n",
            "-----\n",
            "Título: Monitor Curvo Gamer De 27 Pulgadas Fhd 240hz Crua Cr270q\n",
            "Precio: 978.000\n",
            "-----\n",
            "Título: Monitor Gamer Sceptre Led 30'' Wfhd 21:9, Con Altavoces\n",
            "Precio: 1.300.624\n",
            "-----\n",
            "Título: Monitor Curvo Sceptre 34'' Wqhd 1440p 165hz 1500r\n",
            "Precio: 1.879.917\n",
            "-----\n",
            "Título: Monitor Curvo Samsung Odyssey Neo G8 32'' 4k 240 Hz 1000r\n",
            "Precio: 5.213.099\n",
            "-----\n",
            "Título: Monitor Curvo Aoc Gamer 27'' Qhd 1440p 240 Hz Va Freesync\n",
            "Precio: 1.558.664\n",
            "-----\n",
            "Título: Monitor Sceptre, Curvo 1500r, 1080p, Con Altavoces, 165hz\n",
            "Precio: 947.116\n",
            "-----\n",
            "Título: Sceptre Nuevo Monitor Para Juegos De 24,5 Pulgadas 240hz 1ms\n",
            "Precio: 801.900\n",
            "-----\n",
            "Título: Monitor Curvo Gamer Acer Nitro Ed270 27  240hz Full Hd\n",
            "Precio: 1.057.000\n",
            "-----\n",
            "Título: Monitor Gaming Aoc C27g2z 27 Fhd, 240hz - 0.5ms | Curvo Va Color Negro - Rj\n",
            "Precio: 1.090.000\n",
            "-----\n",
            "Título: Monitor gamer curvo Sceptre LED negro 110/220V\n",
            "Precio: 1.134.900\n",
            "-----\n",
            "Título: Monitor Sceptre, 30 , Curvo, 21:9, 2560x1080, 200hz\n",
            "Precio: 2.441.583\n",
            "-----\n",
            "Título: Monitor Para Juegos Sceptre De 27 Pulgadas Y 240 Hz 1ms 99%\n",
            "Precio: 1.447.920\n",
            "-----\n",
            "Título: Monitor Oled 45  Corsair Xeneon Flex 45wqhd240 - 240hz\n",
            "Precio: 10.156.835\n",
            "-----\n",
            "Título: Monitor Sceptre 30 -  C305b-200un1\n",
            "Precio: 1.219.000\n",
            "-----\n",
            "Título: Monitor Gamer Sceptre Negro 24 , Curvo 1500r, 16:9, 1080p\n",
            "Precio: 756.538\n",
            "-----\n",
            "Título: Sceptre Nuevo Monitor Para Juegos De 24,5 Pulgadas 240hz 1ms\n",
            "Precio: 1.198.440\n",
            "-----\n",
            "Título: Sceptre Monitor Para Juegos De 27 Pulgadas 240hz 1080p Amd F\n",
            "Precio: 2.014.470\n",
            "-----\n",
            "Título: Monitor Para Juegos Aoc, 240 Hz, Sin Marco, Altura Ajustable\n",
            "Precio: 1.364.910\n",
            "-----\n",
            "Título: Monitor Curvo Gamer Acer Nitro Ed270 27  240hz Full Hd\n",
            "Precio: 1.189.900\n",
            "-----\n",
            "Título: Sceptre Monitor Curvo Para Juegos De 24 Pulgadas 1080p R% Sr\n",
            "Precio: 731.128\n",
            "-----\n",
            "Título: Monitor Sceptre Ultrawide 200hz 30 Pulgadas 2560x1080 21:9 Color Metal black\n",
            "Precio: 1.513.255\n",
            "-----\n",
            "Título: Monitor Aopen 27hc5r, 27 Pulgadas, Curvado 1500r, Full Hd...\n",
            "Precio: 2.098.141\n",
            "-----\n",
            "\n"
          ]
        }
      ]
    },
    {
      "cell_type": "code",
      "source": [
        "!git clone https://github.com/Anyerson1258/EA2-Scraping.git"
      ],
      "metadata": {
        "colab": {
          "base_uri": "https://localhost:8080/"
        },
        "id": "Qhnh4KiEFK2H",
        "outputId": "b39537f2-433b-4056-af54-7aeeb1131352"
      },
      "execution_count": 4,
      "outputs": [
        {
          "output_type": "stream",
          "name": "stdout",
          "text": [
            "Cloning into 'EA2-Scraping'...\n",
            "remote: Enumerating objects: 11, done.\u001b[K\n",
            "remote: Counting objects: 100% (11/11), done.\u001b[K\n",
            "remote: Compressing objects: 100% (10/10), done.\u001b[K\n",
            "remote: Total 11 (delta 4), reused 0 (delta 0), pack-reused 0 (from 0)\u001b[K\n",
            "Receiving objects: 100% (11/11), 15.17 KiB | 15.17 MiB/s, done.\n",
            "Resolving deltas: 100% (4/4), done.\n"
          ]
        }
      ]
    }
  ]
}